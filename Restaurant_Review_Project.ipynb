{
  "nbformat": 4,
  "nbformat_minor": 0,
  "metadata": {
    "colab": {
      "provenance": [],
      "gpuType": "T4",
      "authorship_tag": "ABX9TyNL6A4hC+I4O9ILMcBcFY3X",
      "include_colab_link": true
    },
    "kernelspec": {
      "name": "python3",
      "display_name": "Python 3"
    },
    "language_info": {
      "name": "python"
    },
    "accelerator": "GPU"
  },
  "cells": [
    {
      "cell_type": "markdown",
      "metadata": {
        "id": "view-in-github",
        "colab_type": "text"
      },
      "source": [
        "<a href=\"https://colab.research.google.com/github/Shivam4681/DeepLearning/blob/main/Restaurant_Review_Project.ipynb\" target=\"_parent\"><img src=\"https://colab.research.google.com/assets/colab-badge.svg\" alt=\"Open In Colab\"/></a>"
      ]
    },
    {
      "cell_type": "markdown",
      "source": [
        "## **Sentiment Analysis with Keras**"
      ],
      "metadata": {
        "id": "PcHsDtOha9ve"
      }
    },
    {
      "cell_type": "code",
      "execution_count": 1,
      "metadata": {
        "id": "nwc-gICTadUh"
      },
      "outputs": [],
      "source": [
        "from warnings import filterwarnings\n",
        "filterwarnings('ignore')"
      ]
    },
    {
      "cell_type": "markdown",
      "source": [
        "![image.png](data:image/png;base64,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)"
      ],
      "metadata": {
        "id": "wrH_47vNfwzc"
      }
    },
    {
      "cell_type": "markdown",
      "source": [
        "\n",
        "Step 1: Read the dataset"
      ],
      "metadata": {
        "id": "0C5ZKEwzf0vO"
      }
    },
    {
      "cell_type": "code",
      "source": [
        "import pandas as pd\n",
        "url = 'https://raw.githubusercontent.com/Shivam4681/Sentiment-Analysis-with-Keras-ANN/main/Restaurant_Reviews.tsv'\n",
        "df = pd.read_csv(url, sep='\\t')\n",
        "df.head()"
      ],
      "metadata": {
        "colab": {
          "base_uri": "https://localhost:8080/",
          "height": 206
        },
        "id": "SWSwFVGKfnXK",
        "outputId": "84762e27-548d-4a50-cded-dc6b4bb856ae"
      },
      "execution_count": 2,
      "outputs": [
        {
          "output_type": "execute_result",
          "data": {
            "text/plain": [
              "                                              Review  Liked\n",
              "0                           Wow... Loved this place.      1\n",
              "1                                 Crust is not good.      0\n",
              "2          Not tasty and the texture was just nasty.      0\n",
              "3  Stopped by during the late May bank holiday of...      1\n",
              "4  The selection on the menu was great and so wer...      1"
            ],
            "text/html": [
              "\n",
              "  <div id=\"df-48e687b3-85d0-46cf-afd0-9c60ffd19dc1\" class=\"colab-df-container\">\n",
              "    <div>\n",
              "<style scoped>\n",
              "    .dataframe tbody tr th:only-of-type {\n",
              "        vertical-align: middle;\n",
              "    }\n",
              "\n",
              "    .dataframe tbody tr th {\n",
              "        vertical-align: top;\n",
              "    }\n",
              "\n",
              "    .dataframe thead th {\n",
              "        text-align: right;\n",
              "    }\n",
              "</style>\n",
              "<table border=\"1\" class=\"dataframe\">\n",
              "  <thead>\n",
              "    <tr style=\"text-align: right;\">\n",
              "      <th></th>\n",
              "      <th>Review</th>\n",
              "      <th>Liked</th>\n",
              "    </tr>\n",
              "  </thead>\n",
              "  <tbody>\n",
              "    <tr>\n",
              "      <th>0</th>\n",
              "      <td>Wow... Loved this place.</td>\n",
              "      <td>1</td>\n",
              "    </tr>\n",
              "    <tr>\n",
              "      <th>1</th>\n",
              "      <td>Crust is not good.</td>\n",
              "      <td>0</td>\n",
              "    </tr>\n",
              "    <tr>\n",
              "      <th>2</th>\n",
              "      <td>Not tasty and the texture was just nasty.</td>\n",
              "      <td>0</td>\n",
              "    </tr>\n",
              "    <tr>\n",
              "      <th>3</th>\n",
              "      <td>Stopped by during the late May bank holiday of...</td>\n",
              "      <td>1</td>\n",
              "    </tr>\n",
              "    <tr>\n",
              "      <th>4</th>\n",
              "      <td>The selection on the menu was great and so wer...</td>\n",
              "      <td>1</td>\n",
              "    </tr>\n",
              "  </tbody>\n",
              "</table>\n",
              "</div>\n",
              "    <div class=\"colab-df-buttons\">\n",
              "\n",
              "  <div class=\"colab-df-container\">\n",
              "    <button class=\"colab-df-convert\" onclick=\"convertToInteractive('df-48e687b3-85d0-46cf-afd0-9c60ffd19dc1')\"\n",
              "            title=\"Convert this dataframe to an interactive table.\"\n",
              "            style=\"display:none;\">\n",
              "\n",
              "  <svg xmlns=\"http://www.w3.org/2000/svg\" height=\"24px\" viewBox=\"0 -960 960 960\">\n",
              "    <path d=\"M120-120v-720h720v720H120Zm60-500h600v-160H180v160Zm220 220h160v-160H400v160Zm0 220h160v-160H400v160ZM180-400h160v-160H180v160Zm440 0h160v-160H620v160ZM180-180h160v-160H180v160Zm440 0h160v-160H620v160Z\"/>\n",
              "  </svg>\n",
              "    </button>\n",
              "\n",
              "  <style>\n",
              "    .colab-df-container {\n",
              "      display:flex;\n",
              "      gap: 12px;\n",
              "    }\n",
              "\n",
              "    .colab-df-convert {\n",
              "      background-color: #E8F0FE;\n",
              "      border: none;\n",
              "      border-radius: 50%;\n",
              "      cursor: pointer;\n",
              "      display: none;\n",
              "      fill: #1967D2;\n",
              "      height: 32px;\n",
              "      padding: 0 0 0 0;\n",
              "      width: 32px;\n",
              "    }\n",
              "\n",
              "    .colab-df-convert:hover {\n",
              "      background-color: #E2EBFA;\n",
              "      box-shadow: 0px 1px 2px rgba(60, 64, 67, 0.3), 0px 1px 3px 1px rgba(60, 64, 67, 0.15);\n",
              "      fill: #174EA6;\n",
              "    }\n",
              "\n",
              "    .colab-df-buttons div {\n",
              "      margin-bottom: 4px;\n",
              "    }\n",
              "\n",
              "    [theme=dark] .colab-df-convert {\n",
              "      background-color: #3B4455;\n",
              "      fill: #D2E3FC;\n",
              "    }\n",
              "\n",
              "    [theme=dark] .colab-df-convert:hover {\n",
              "      background-color: #434B5C;\n",
              "      box-shadow: 0px 1px 3px 1px rgba(0, 0, 0, 0.15);\n",
              "      filter: drop-shadow(0px 1px 2px rgba(0, 0, 0, 0.3));\n",
              "      fill: #FFFFFF;\n",
              "    }\n",
              "  </style>\n",
              "\n",
              "    <script>\n",
              "      const buttonEl =\n",
              "        document.querySelector('#df-48e687b3-85d0-46cf-afd0-9c60ffd19dc1 button.colab-df-convert');\n",
              "      buttonEl.style.display =\n",
              "        google.colab.kernel.accessAllowed ? 'block' : 'none';\n",
              "\n",
              "      async function convertToInteractive(key) {\n",
              "        const element = document.querySelector('#df-48e687b3-85d0-46cf-afd0-9c60ffd19dc1');\n",
              "        const dataTable =\n",
              "          await google.colab.kernel.invokeFunction('convertToInteractive',\n",
              "                                                    [key], {});\n",
              "        if (!dataTable) return;\n",
              "\n",
              "        const docLinkHtml = 'Like what you see? Visit the ' +\n",
              "          '<a target=\"_blank\" href=https://colab.research.google.com/notebooks/data_table.ipynb>data table notebook</a>'\n",
              "          + ' to learn more about interactive tables.';\n",
              "        element.innerHTML = '';\n",
              "        dataTable['output_type'] = 'display_data';\n",
              "        await google.colab.output.renderOutput(dataTable, element);\n",
              "        const docLink = document.createElement('div');\n",
              "        docLink.innerHTML = docLinkHtml;\n",
              "        element.appendChild(docLink);\n",
              "      }\n",
              "    </script>\n",
              "  </div>\n",
              "\n",
              "\n",
              "<div id=\"df-0307c5c5-351b-4a33-8fcb-dd252feeab28\">\n",
              "  <button class=\"colab-df-quickchart\" onclick=\"quickchart('df-0307c5c5-351b-4a33-8fcb-dd252feeab28')\"\n",
              "            title=\"Suggest charts\"\n",
              "            style=\"display:none;\">\n",
              "\n",
              "<svg xmlns=\"http://www.w3.org/2000/svg\" height=\"24px\"viewBox=\"0 0 24 24\"\n",
              "     width=\"24px\">\n",
              "    <g>\n",
              "        <path d=\"M19 3H5c-1.1 0-2 .9-2 2v14c0 1.1.9 2 2 2h14c1.1 0 2-.9 2-2V5c0-1.1-.9-2-2-2zM9 17H7v-7h2v7zm4 0h-2V7h2v10zm4 0h-2v-4h2v4z\"/>\n",
              "    </g>\n",
              "</svg>\n",
              "  </button>\n",
              "\n",
              "<style>\n",
              "  .colab-df-quickchart {\n",
              "      --bg-color: #E8F0FE;\n",
              "      --fill-color: #1967D2;\n",
              "      --hover-bg-color: #E2EBFA;\n",
              "      --hover-fill-color: #174EA6;\n",
              "      --disabled-fill-color: #AAA;\n",
              "      --disabled-bg-color: #DDD;\n",
              "  }\n",
              "\n",
              "  [theme=dark] .colab-df-quickchart {\n",
              "      --bg-color: #3B4455;\n",
              "      --fill-color: #D2E3FC;\n",
              "      --hover-bg-color: #434B5C;\n",
              "      --hover-fill-color: #FFFFFF;\n",
              "      --disabled-bg-color: #3B4455;\n",
              "      --disabled-fill-color: #666;\n",
              "  }\n",
              "\n",
              "  .colab-df-quickchart {\n",
              "    background-color: var(--bg-color);\n",
              "    border: none;\n",
              "    border-radius: 50%;\n",
              "    cursor: pointer;\n",
              "    display: none;\n",
              "    fill: var(--fill-color);\n",
              "    height: 32px;\n",
              "    padding: 0;\n",
              "    width: 32px;\n",
              "  }\n",
              "\n",
              "  .colab-df-quickchart:hover {\n",
              "    background-color: var(--hover-bg-color);\n",
              "    box-shadow: 0 1px 2px rgba(60, 64, 67, 0.3), 0 1px 3px 1px rgba(60, 64, 67, 0.15);\n",
              "    fill: var(--button-hover-fill-color);\n",
              "  }\n",
              "\n",
              "  .colab-df-quickchart-complete:disabled,\n",
              "  .colab-df-quickchart-complete:disabled:hover {\n",
              "    background-color: var(--disabled-bg-color);\n",
              "    fill: var(--disabled-fill-color);\n",
              "    box-shadow: none;\n",
              "  }\n",
              "\n",
              "  .colab-df-spinner {\n",
              "    border: 2px solid var(--fill-color);\n",
              "    border-color: transparent;\n",
              "    border-bottom-color: var(--fill-color);\n",
              "    animation:\n",
              "      spin 1s steps(1) infinite;\n",
              "  }\n",
              "\n",
              "  @keyframes spin {\n",
              "    0% {\n",
              "      border-color: transparent;\n",
              "      border-bottom-color: var(--fill-color);\n",
              "      border-left-color: var(--fill-color);\n",
              "    }\n",
              "    20% {\n",
              "      border-color: transparent;\n",
              "      border-left-color: var(--fill-color);\n",
              "      border-top-color: var(--fill-color);\n",
              "    }\n",
              "    30% {\n",
              "      border-color: transparent;\n",
              "      border-left-color: var(--fill-color);\n",
              "      border-top-color: var(--fill-color);\n",
              "      border-right-color: var(--fill-color);\n",
              "    }\n",
              "    40% {\n",
              "      border-color: transparent;\n",
              "      border-right-color: var(--fill-color);\n",
              "      border-top-color: var(--fill-color);\n",
              "    }\n",
              "    60% {\n",
              "      border-color: transparent;\n",
              "      border-right-color: var(--fill-color);\n",
              "    }\n",
              "    80% {\n",
              "      border-color: transparent;\n",
              "      border-right-color: var(--fill-color);\n",
              "      border-bottom-color: var(--fill-color);\n",
              "    }\n",
              "    90% {\n",
              "      border-color: transparent;\n",
              "      border-bottom-color: var(--fill-color);\n",
              "    }\n",
              "  }\n",
              "</style>\n",
              "\n",
              "  <script>\n",
              "    async function quickchart(key) {\n",
              "      const quickchartButtonEl =\n",
              "        document.querySelector('#' + key + ' button');\n",
              "      quickchartButtonEl.disabled = true;  // To prevent multiple clicks.\n",
              "      quickchartButtonEl.classList.add('colab-df-spinner');\n",
              "      try {\n",
              "        const charts = await google.colab.kernel.invokeFunction(\n",
              "            'suggestCharts', [key], {});\n",
              "      } catch (error) {\n",
              "        console.error('Error during call to suggestCharts:', error);\n",
              "      }\n",
              "      quickchartButtonEl.classList.remove('colab-df-spinner');\n",
              "      quickchartButtonEl.classList.add('colab-df-quickchart-complete');\n",
              "    }\n",
              "    (() => {\n",
              "      let quickchartButtonEl =\n",
              "        document.querySelector('#df-0307c5c5-351b-4a33-8fcb-dd252feeab28 button');\n",
              "      quickchartButtonEl.style.display =\n",
              "        google.colab.kernel.accessAllowed ? 'block' : 'none';\n",
              "    })();\n",
              "  </script>\n",
              "</div>\n",
              "\n",
              "    </div>\n",
              "  </div>\n"
            ],
            "application/vnd.google.colaboratory.intrinsic+json": {
              "type": "dataframe",
              "variable_name": "df",
              "summary": "{\n  \"name\": \"df\",\n  \"rows\": 1000,\n  \"fields\": [\n    {\n      \"column\": \"Review\",\n      \"properties\": {\n        \"dtype\": \"string\",\n        \"num_unique_values\": 996,\n        \"samples\": [\n          \"They were excellent.\",\n          \"Your servers suck, wait, correction, our server Heimer sucked.\",\n          \"Will be back again!\"\n        ],\n        \"semantic_type\": \"\",\n        \"description\": \"\"\n      }\n    },\n    {\n      \"column\": \"Liked\",\n      \"properties\": {\n        \"dtype\": \"number\",\n        \"std\": 0,\n        \"min\": 0,\n        \"max\": 1,\n        \"num_unique_values\": 2,\n        \"samples\": [\n          0,\n          1\n        ],\n        \"semantic_type\": \"\",\n        \"description\": \"\"\n      }\n    }\n  ]\n}"
            }
          },
          "metadata": {},
          "execution_count": 2
        }
      ]
    },
    {
      "cell_type": "code",
      "source": [
        "s = \"Welcome, To Deep Learning Class!\""
      ],
      "metadata": {
        "id": "O5xH8ADngYow"
      },
      "execution_count": 3,
      "outputs": []
    },
    {
      "cell_type": "code",
      "source": [
        "s.lower()"
      ],
      "metadata": {
        "colab": {
          "base_uri": "https://localhost:8080/",
          "height": 36
        },
        "id": "zJATSfspgptH",
        "outputId": "75703c44-a315-4a08-a50f-2f91375ee381"
      },
      "execution_count": 4,
      "outputs": [
        {
          "output_type": "execute_result",
          "data": {
            "text/plain": [
              "'welcome, to deep learning class!'"
            ],
            "application/vnd.google.colaboratory.intrinsic+json": {
              "type": "string"
            }
          },
          "metadata": {},
          "execution_count": 4
        }
      ]
    },
    {
      "cell_type": "markdown",
      "source": [
        "Re use for replace"
      ],
      "metadata": {
        "id": "BiYBHgbLhFgp"
      }
    },
    {
      "cell_type": "code",
      "source": [
        "import re\n",
        "s1 = re.sub(\"[^a-z ]\", \"\", s)\n",
        "s1"
      ],
      "metadata": {
        "colab": {
          "base_uri": "https://localhost:8080/",
          "height": 36
        },
        "id": "rgyqKMHHhYHh",
        "outputId": "da3a15a3-17d2-4ccc-c1c8-223abd2d88fa"
      },
      "execution_count": 5,
      "outputs": [
        {
          "output_type": "execute_result",
          "data": {
            "text/plain": [
              "'elcome o eep earning lass'"
            ],
            "application/vnd.google.colaboratory.intrinsic+json": {
              "type": "string"
            }
          },
          "metadata": {},
          "execution_count": 5
        }
      ]
    },
    {
      "cell_type": "markdown",
      "source": [
        "**Create a function to preprocess text**\n",
        "\n"
      ],
      "metadata": {
        "id": "vxGi4SsBjWN9"
      }
    },
    {
      "cell_type": "code",
      "source": [
        "def preprocessing_text(s):\n",
        "  s = s.lower()\n",
        "  s = re.sub('[^a-z ]', '', s)\n",
        "  return s"
      ],
      "metadata": {
        "id": "75apAQIeh-7z"
      },
      "execution_count": 6,
      "outputs": []
    },
    {
      "cell_type": "code",
      "source": [
        "a = 'Wow...., The Experience Was Good'\n",
        "preprocessing_text(a)"
      ],
      "metadata": {
        "colab": {
          "base_uri": "https://localhost:8080/",
          "height": 36
        },
        "id": "6ErhZJbwknY1",
        "outputId": "3faea7f6-4c6c-40d7-9d3a-5b6cee9f0057"
      },
      "execution_count": 7,
      "outputs": [
        {
          "output_type": "execute_result",
          "data": {
            "text/plain": [
              "'wow the experience was good'"
            ],
            "application/vnd.google.colaboratory.intrinsic+json": {
              "type": "string"
            }
          },
          "metadata": {},
          "execution_count": 7
        }
      ]
    },
    {
      "cell_type": "markdown",
      "source": [
        "**Apply preprocessing on dataframe**"
      ],
      "metadata": {
        "id": "An7N0bjQk8dG"
      }
    },
    {
      "cell_type": "code",
      "source": [
        "df['Review_pre'] = df['Review'].apply(preprocessing_text)\n",
        "df"
      ],
      "metadata": {
        "colab": {
          "base_uri": "https://localhost:8080/",
          "height": 545
        },
        "id": "X0FvYt-Zk4WQ",
        "outputId": "d9c9c87b-0c27-4c9f-c41e-1f06ef10d419"
      },
      "execution_count": 8,
      "outputs": [
        {
          "output_type": "execute_result",
          "data": {
            "text/plain": [
              "                                                Review  Liked  \\\n",
              "0                             Wow... Loved this place.      1   \n",
              "1                                   Crust is not good.      0   \n",
              "2            Not tasty and the texture was just nasty.      0   \n",
              "3    Stopped by during the late May bank holiday of...      1   \n",
              "4    The selection on the menu was great and so wer...      1   \n",
              "..                                                 ...    ...   \n",
              "995  I think food should have flavor and texture an...      0   \n",
              "996                           Appetite instantly gone.      0   \n",
              "997  Overall I was not impressed and would not go b...      0   \n",
              "998  The whole experience was underwhelming, and I ...      0   \n",
              "999  Then, as if I hadn't wasted enough of my life ...      0   \n",
              "\n",
              "                                            Review_pre  \n",
              "0                                 wow loved this place  \n",
              "1                                    crust is not good  \n",
              "2             not tasty and the texture was just nasty  \n",
              "3    stopped by during the late may bank holiday of...  \n",
              "4    the selection on the menu was great and so wer...  \n",
              "..                                                 ...  \n",
              "995  i think food should have flavor and texture an...  \n",
              "996                            appetite instantly gone  \n",
              "997  overall i was not impressed and would not go back  \n",
              "998  the whole experience was underwhelming and i t...  \n",
              "999  then as if i hadnt wasted enough of my life th...  \n",
              "\n",
              "[1000 rows x 3 columns]"
            ],
            "text/html": [
              "\n",
              "  <div id=\"df-42c9dfc2-33cd-42ab-855f-6248c9033a02\" class=\"colab-df-container\">\n",
              "    <div>\n",
              "<style scoped>\n",
              "    .dataframe tbody tr th:only-of-type {\n",
              "        vertical-align: middle;\n",
              "    }\n",
              "\n",
              "    .dataframe tbody tr th {\n",
              "        vertical-align: top;\n",
              "    }\n",
              "\n",
              "    .dataframe thead th {\n",
              "        text-align: right;\n",
              "    }\n",
              "</style>\n",
              "<table border=\"1\" class=\"dataframe\">\n",
              "  <thead>\n",
              "    <tr style=\"text-align: right;\">\n",
              "      <th></th>\n",
              "      <th>Review</th>\n",
              "      <th>Liked</th>\n",
              "      <th>Review_pre</th>\n",
              "    </tr>\n",
              "  </thead>\n",
              "  <tbody>\n",
              "    <tr>\n",
              "      <th>0</th>\n",
              "      <td>Wow... Loved this place.</td>\n",
              "      <td>1</td>\n",
              "      <td>wow loved this place</td>\n",
              "    </tr>\n",
              "    <tr>\n",
              "      <th>1</th>\n",
              "      <td>Crust is not good.</td>\n",
              "      <td>0</td>\n",
              "      <td>crust is not good</td>\n",
              "    </tr>\n",
              "    <tr>\n",
              "      <th>2</th>\n",
              "      <td>Not tasty and the texture was just nasty.</td>\n",
              "      <td>0</td>\n",
              "      <td>not tasty and the texture was just nasty</td>\n",
              "    </tr>\n",
              "    <tr>\n",
              "      <th>3</th>\n",
              "      <td>Stopped by during the late May bank holiday of...</td>\n",
              "      <td>1</td>\n",
              "      <td>stopped by during the late may bank holiday of...</td>\n",
              "    </tr>\n",
              "    <tr>\n",
              "      <th>4</th>\n",
              "      <td>The selection on the menu was great and so wer...</td>\n",
              "      <td>1</td>\n",
              "      <td>the selection on the menu was great and so wer...</td>\n",
              "    </tr>\n",
              "    <tr>\n",
              "      <th>...</th>\n",
              "      <td>...</td>\n",
              "      <td>...</td>\n",
              "      <td>...</td>\n",
              "    </tr>\n",
              "    <tr>\n",
              "      <th>995</th>\n",
              "      <td>I think food should have flavor and texture an...</td>\n",
              "      <td>0</td>\n",
              "      <td>i think food should have flavor and texture an...</td>\n",
              "    </tr>\n",
              "    <tr>\n",
              "      <th>996</th>\n",
              "      <td>Appetite instantly gone.</td>\n",
              "      <td>0</td>\n",
              "      <td>appetite instantly gone</td>\n",
              "    </tr>\n",
              "    <tr>\n",
              "      <th>997</th>\n",
              "      <td>Overall I was not impressed and would not go b...</td>\n",
              "      <td>0</td>\n",
              "      <td>overall i was not impressed and would not go back</td>\n",
              "    </tr>\n",
              "    <tr>\n",
              "      <th>998</th>\n",
              "      <td>The whole experience was underwhelming, and I ...</td>\n",
              "      <td>0</td>\n",
              "      <td>the whole experience was underwhelming and i t...</td>\n",
              "    </tr>\n",
              "    <tr>\n",
              "      <th>999</th>\n",
              "      <td>Then, as if I hadn't wasted enough of my life ...</td>\n",
              "      <td>0</td>\n",
              "      <td>then as if i hadnt wasted enough of my life th...</td>\n",
              "    </tr>\n",
              "  </tbody>\n",
              "</table>\n",
              "<p>1000 rows × 3 columns</p>\n",
              "</div>\n",
              "    <div class=\"colab-df-buttons\">\n",
              "\n",
              "  <div class=\"colab-df-container\">\n",
              "    <button class=\"colab-df-convert\" onclick=\"convertToInteractive('df-42c9dfc2-33cd-42ab-855f-6248c9033a02')\"\n",
              "            title=\"Convert this dataframe to an interactive table.\"\n",
              "            style=\"display:none;\">\n",
              "\n",
              "  <svg xmlns=\"http://www.w3.org/2000/svg\" height=\"24px\" viewBox=\"0 -960 960 960\">\n",
              "    <path d=\"M120-120v-720h720v720H120Zm60-500h600v-160H180v160Zm220 220h160v-160H400v160Zm0 220h160v-160H400v160ZM180-400h160v-160H180v160Zm440 0h160v-160H620v160ZM180-180h160v-160H180v160Zm440 0h160v-160H620v160Z\"/>\n",
              "  </svg>\n",
              "    </button>\n",
              "\n",
              "  <style>\n",
              "    .colab-df-container {\n",
              "      display:flex;\n",
              "      gap: 12px;\n",
              "    }\n",
              "\n",
              "    .colab-df-convert {\n",
              "      background-color: #E8F0FE;\n",
              "      border: none;\n",
              "      border-radius: 50%;\n",
              "      cursor: pointer;\n",
              "      display: none;\n",
              "      fill: #1967D2;\n",
              "      height: 32px;\n",
              "      padding: 0 0 0 0;\n",
              "      width: 32px;\n",
              "    }\n",
              "\n",
              "    .colab-df-convert:hover {\n",
              "      background-color: #E2EBFA;\n",
              "      box-shadow: 0px 1px 2px rgba(60, 64, 67, 0.3), 0px 1px 3px 1px rgba(60, 64, 67, 0.15);\n",
              "      fill: #174EA6;\n",
              "    }\n",
              "\n",
              "    .colab-df-buttons div {\n",
              "      margin-bottom: 4px;\n",
              "    }\n",
              "\n",
              "    [theme=dark] .colab-df-convert {\n",
              "      background-color: #3B4455;\n",
              "      fill: #D2E3FC;\n",
              "    }\n",
              "\n",
              "    [theme=dark] .colab-df-convert:hover {\n",
              "      background-color: #434B5C;\n",
              "      box-shadow: 0px 1px 3px 1px rgba(0, 0, 0, 0.15);\n",
              "      filter: drop-shadow(0px 1px 2px rgba(0, 0, 0, 0.3));\n",
              "      fill: #FFFFFF;\n",
              "    }\n",
              "  </style>\n",
              "\n",
              "    <script>\n",
              "      const buttonEl =\n",
              "        document.querySelector('#df-42c9dfc2-33cd-42ab-855f-6248c9033a02 button.colab-df-convert');\n",
              "      buttonEl.style.display =\n",
              "        google.colab.kernel.accessAllowed ? 'block' : 'none';\n",
              "\n",
              "      async function convertToInteractive(key) {\n",
              "        const element = document.querySelector('#df-42c9dfc2-33cd-42ab-855f-6248c9033a02');\n",
              "        const dataTable =\n",
              "          await google.colab.kernel.invokeFunction('convertToInteractive',\n",
              "                                                    [key], {});\n",
              "        if (!dataTable) return;\n",
              "\n",
              "        const docLinkHtml = 'Like what you see? Visit the ' +\n",
              "          '<a target=\"_blank\" href=https://colab.research.google.com/notebooks/data_table.ipynb>data table notebook</a>'\n",
              "          + ' to learn more about interactive tables.';\n",
              "        element.innerHTML = '';\n",
              "        dataTable['output_type'] = 'display_data';\n",
              "        await google.colab.output.renderOutput(dataTable, element);\n",
              "        const docLink = document.createElement('div');\n",
              "        docLink.innerHTML = docLinkHtml;\n",
              "        element.appendChild(docLink);\n",
              "      }\n",
              "    </script>\n",
              "  </div>\n",
              "\n",
              "\n",
              "<div id=\"df-de49beb0-c5bc-46ba-b4f6-bc1b995ea0d6\">\n",
              "  <button class=\"colab-df-quickchart\" onclick=\"quickchart('df-de49beb0-c5bc-46ba-b4f6-bc1b995ea0d6')\"\n",
              "            title=\"Suggest charts\"\n",
              "            style=\"display:none;\">\n",
              "\n",
              "<svg xmlns=\"http://www.w3.org/2000/svg\" height=\"24px\"viewBox=\"0 0 24 24\"\n",
              "     width=\"24px\">\n",
              "    <g>\n",
              "        <path d=\"M19 3H5c-1.1 0-2 .9-2 2v14c0 1.1.9 2 2 2h14c1.1 0 2-.9 2-2V5c0-1.1-.9-2-2-2zM9 17H7v-7h2v7zm4 0h-2V7h2v10zm4 0h-2v-4h2v4z\"/>\n",
              "    </g>\n",
              "</svg>\n",
              "  </button>\n",
              "\n",
              "<style>\n",
              "  .colab-df-quickchart {\n",
              "      --bg-color: #E8F0FE;\n",
              "      --fill-color: #1967D2;\n",
              "      --hover-bg-color: #E2EBFA;\n",
              "      --hover-fill-color: #174EA6;\n",
              "      --disabled-fill-color: #AAA;\n",
              "      --disabled-bg-color: #DDD;\n",
              "  }\n",
              "\n",
              "  [theme=dark] .colab-df-quickchart {\n",
              "      --bg-color: #3B4455;\n",
              "      --fill-color: #D2E3FC;\n",
              "      --hover-bg-color: #434B5C;\n",
              "      --hover-fill-color: #FFFFFF;\n",
              "      --disabled-bg-color: #3B4455;\n",
              "      --disabled-fill-color: #666;\n",
              "  }\n",
              "\n",
              "  .colab-df-quickchart {\n",
              "    background-color: var(--bg-color);\n",
              "    border: none;\n",
              "    border-radius: 50%;\n",
              "    cursor: pointer;\n",
              "    display: none;\n",
              "    fill: var(--fill-color);\n",
              "    height: 32px;\n",
              "    padding: 0;\n",
              "    width: 32px;\n",
              "  }\n",
              "\n",
              "  .colab-df-quickchart:hover {\n",
              "    background-color: var(--hover-bg-color);\n",
              "    box-shadow: 0 1px 2px rgba(60, 64, 67, 0.3), 0 1px 3px 1px rgba(60, 64, 67, 0.15);\n",
              "    fill: var(--button-hover-fill-color);\n",
              "  }\n",
              "\n",
              "  .colab-df-quickchart-complete:disabled,\n",
              "  .colab-df-quickchart-complete:disabled:hover {\n",
              "    background-color: var(--disabled-bg-color);\n",
              "    fill: var(--disabled-fill-color);\n",
              "    box-shadow: none;\n",
              "  }\n",
              "\n",
              "  .colab-df-spinner {\n",
              "    border: 2px solid var(--fill-color);\n",
              "    border-color: transparent;\n",
              "    border-bottom-color: var(--fill-color);\n",
              "    animation:\n",
              "      spin 1s steps(1) infinite;\n",
              "  }\n",
              "\n",
              "  @keyframes spin {\n",
              "    0% {\n",
              "      border-color: transparent;\n",
              "      border-bottom-color: var(--fill-color);\n",
              "      border-left-color: var(--fill-color);\n",
              "    }\n",
              "    20% {\n",
              "      border-color: transparent;\n",
              "      border-left-color: var(--fill-color);\n",
              "      border-top-color: var(--fill-color);\n",
              "    }\n",
              "    30% {\n",
              "      border-color: transparent;\n",
              "      border-left-color: var(--fill-color);\n",
              "      border-top-color: var(--fill-color);\n",
              "      border-right-color: var(--fill-color);\n",
              "    }\n",
              "    40% {\n",
              "      border-color: transparent;\n",
              "      border-right-color: var(--fill-color);\n",
              "      border-top-color: var(--fill-color);\n",
              "    }\n",
              "    60% {\n",
              "      border-color: transparent;\n",
              "      border-right-color: var(--fill-color);\n",
              "    }\n",
              "    80% {\n",
              "      border-color: transparent;\n",
              "      border-right-color: var(--fill-color);\n",
              "      border-bottom-color: var(--fill-color);\n",
              "    }\n",
              "    90% {\n",
              "      border-color: transparent;\n",
              "      border-bottom-color: var(--fill-color);\n",
              "    }\n",
              "  }\n",
              "</style>\n",
              "\n",
              "  <script>\n",
              "    async function quickchart(key) {\n",
              "      const quickchartButtonEl =\n",
              "        document.querySelector('#' + key + ' button');\n",
              "      quickchartButtonEl.disabled = true;  // To prevent multiple clicks.\n",
              "      quickchartButtonEl.classList.add('colab-df-spinner');\n",
              "      try {\n",
              "        const charts = await google.colab.kernel.invokeFunction(\n",
              "            'suggestCharts', [key], {});\n",
              "      } catch (error) {\n",
              "        console.error('Error during call to suggestCharts:', error);\n",
              "      }\n",
              "      quickchartButtonEl.classList.remove('colab-df-spinner');\n",
              "      quickchartButtonEl.classList.add('colab-df-quickchart-complete');\n",
              "    }\n",
              "    (() => {\n",
              "      let quickchartButtonEl =\n",
              "        document.querySelector('#df-de49beb0-c5bc-46ba-b4f6-bc1b995ea0d6 button');\n",
              "      quickchartButtonEl.style.display =\n",
              "        google.colab.kernel.accessAllowed ? 'block' : 'none';\n",
              "    })();\n",
              "  </script>\n",
              "</div>\n",
              "\n",
              "  <div id=\"id_3a41053b-6771-4a6b-b231-10ccb7a21772\">\n",
              "    <style>\n",
              "      .colab-df-generate {\n",
              "        background-color: #E8F0FE;\n",
              "        border: none;\n",
              "        border-radius: 50%;\n",
              "        cursor: pointer;\n",
              "        display: none;\n",
              "        fill: #1967D2;\n",
              "        height: 32px;\n",
              "        padding: 0 0 0 0;\n",
              "        width: 32px;\n",
              "      }\n",
              "\n",
              "      .colab-df-generate:hover {\n",
              "        background-color: #E2EBFA;\n",
              "        box-shadow: 0px 1px 2px rgba(60, 64, 67, 0.3), 0px 1px 3px 1px rgba(60, 64, 67, 0.15);\n",
              "        fill: #174EA6;\n",
              "      }\n",
              "\n",
              "      [theme=dark] .colab-df-generate {\n",
              "        background-color: #3B4455;\n",
              "        fill: #D2E3FC;\n",
              "      }\n",
              "\n",
              "      [theme=dark] .colab-df-generate:hover {\n",
              "        background-color: #434B5C;\n",
              "        box-shadow: 0px 1px 3px 1px rgba(0, 0, 0, 0.15);\n",
              "        filter: drop-shadow(0px 1px 2px rgba(0, 0, 0, 0.3));\n",
              "        fill: #FFFFFF;\n",
              "      }\n",
              "    </style>\n",
              "    <button class=\"colab-df-generate\" onclick=\"generateWithVariable('df')\"\n",
              "            title=\"Generate code using this dataframe.\"\n",
              "            style=\"display:none;\">\n",
              "\n",
              "  <svg xmlns=\"http://www.w3.org/2000/svg\" height=\"24px\"viewBox=\"0 0 24 24\"\n",
              "       width=\"24px\">\n",
              "    <path d=\"M7,19H8.4L18.45,9,17,7.55,7,17.6ZM5,21V16.75L18.45,3.32a2,2,0,0,1,2.83,0l1.4,1.43a1.91,1.91,0,0,1,.58,1.4,1.91,1.91,0,0,1-.58,1.4L9.25,21ZM18.45,9,17,7.55Zm-12,3A5.31,5.31,0,0,0,4.9,8.1,5.31,5.31,0,0,0,1,6.5,5.31,5.31,0,0,0,4.9,4.9,5.31,5.31,0,0,0,6.5,1,5.31,5.31,0,0,0,8.1,4.9,5.31,5.31,0,0,0,12,6.5,5.46,5.46,0,0,0,6.5,12Z\"/>\n",
              "  </svg>\n",
              "    </button>\n",
              "    <script>\n",
              "      (() => {\n",
              "      const buttonEl =\n",
              "        document.querySelector('#id_3a41053b-6771-4a6b-b231-10ccb7a21772 button.colab-df-generate');\n",
              "      buttonEl.style.display =\n",
              "        google.colab.kernel.accessAllowed ? 'block' : 'none';\n",
              "\n",
              "      buttonEl.onclick = () => {\n",
              "        google.colab.notebook.generateWithVariable('df');\n",
              "      }\n",
              "      })();\n",
              "    </script>\n",
              "  </div>\n",
              "\n",
              "    </div>\n",
              "  </div>\n"
            ],
            "application/vnd.google.colaboratory.intrinsic+json": {
              "type": "dataframe",
              "variable_name": "df",
              "summary": "{\n  \"name\": \"df\",\n  \"rows\": 1000,\n  \"fields\": [\n    {\n      \"column\": \"Review\",\n      \"properties\": {\n        \"dtype\": \"string\",\n        \"num_unique_values\": 996,\n        \"samples\": [\n          \"They were excellent.\",\n          \"Your servers suck, wait, correction, our server Heimer sucked.\",\n          \"Will be back again!\"\n        ],\n        \"semantic_type\": \"\",\n        \"description\": \"\"\n      }\n    },\n    {\n      \"column\": \"Liked\",\n      \"properties\": {\n        \"dtype\": \"number\",\n        \"std\": 0,\n        \"min\": 0,\n        \"max\": 1,\n        \"num_unique_values\": 2,\n        \"samples\": [\n          0,\n          1\n        ],\n        \"semantic_type\": \"\",\n        \"description\": \"\"\n      }\n    },\n    {\n      \"column\": \"Review_pre\",\n      \"properties\": {\n        \"dtype\": \"string\",\n        \"num_unique_values\": 995,\n        \"samples\": [\n          \"i could barely stomach the meal but didnt complain because it was a business lunch\",\n          \"similarly the delivery man did not say a word of apology when our food was  minutes late\"\n        ],\n        \"semantic_type\": \"\",\n        \"description\": \"\"\n      }\n    }\n  ]\n}"
            }
          },
          "metadata": {},
          "execution_count": 8
        }
      ]
    },
    {
      "cell_type": "markdown",
      "source": [
        "**Apply TFIDF Vectorizer**"
      ],
      "metadata": {
        "id": "8mCtyVebmWi0"
      }
    },
    {
      "cell_type": "code",
      "source": [
        "from sklearn.feature_extraction.text import TfidfVectorizer\n",
        "tfidf = TfidfVectorizer()\n",
        "x_pre = tfidf.fit_transform(df['Review_pre']).toarray()"
      ],
      "metadata": {
        "id": "dj_ou3Y5lSt3"
      },
      "execution_count": 9,
      "outputs": []
    },
    {
      "cell_type": "code",
      "source": [
        "x_pre"
      ],
      "metadata": {
        "colab": {
          "base_uri": "https://localhost:8080/"
        },
        "id": "MvwVqd1WnW9m",
        "outputId": "51745d1b-ccdb-41e9-fa0d-512ad9141178"
      },
      "execution_count": 10,
      "outputs": [
        {
          "output_type": "execute_result",
          "data": {
            "text/plain": [
              "array([[0., 0., 0., ..., 0., 0., 0.],\n",
              "       [0., 0., 0., ..., 0., 0., 0.],\n",
              "       [0., 0., 0., ..., 0., 0., 0.],\n",
              "       ...,\n",
              "       [0., 0., 0., ..., 0., 0., 0.],\n",
              "       [0., 0., 0., ..., 0., 0., 0.],\n",
              "       [0., 0., 0., ..., 0., 0., 0.]])"
            ]
          },
          "metadata": {},
          "execution_count": 10
        }
      ]
    },
    {
      "cell_type": "code",
      "source": [
        "x_pre.shape"
      ],
      "metadata": {
        "colab": {
          "base_uri": "https://localhost:8080/"
        },
        "id": "nq1kqOSLnjwJ",
        "outputId": "62ba97b4-be1c-4fe4-e9e4-d09a29745f76"
      },
      "execution_count": 11,
      "outputs": [
        {
          "output_type": "execute_result",
          "data": {
            "text/plain": [
              "(1000, 2046)"
            ]
          },
          "metadata": {},
          "execution_count": 11
        }
      ]
    },
    {
      "cell_type": "code",
      "source": [
        "y = df['Liked']\n",
        "y.head()"
      ],
      "metadata": {
        "colab": {
          "base_uri": "https://localhost:8080/"
        },
        "id": "tGd4pInAn0zx",
        "outputId": "906905fe-bfa8-479c-953c-aa200e5eea19"
      },
      "execution_count": 12,
      "outputs": [
        {
          "output_type": "execute_result",
          "data": {
            "text/plain": [
              "0    1\n",
              "1    0\n",
              "2    0\n",
              "3    1\n",
              "4    1\n",
              "Name: Liked, dtype: int64"
            ]
          },
          "metadata": {},
          "execution_count": 12
        }
      ]
    },
    {
      "cell_type": "markdown",
      "source": [
        "\n",
        "**Apply Train test split**"
      ],
      "metadata": {
        "id": "s9XMkIAEoVdt"
      }
    },
    {
      "cell_type": "code",
      "source": [
        "from sklearn.model_selection import train_test_split\n",
        "x_train, x_test, y_train, y_test = train_test_split(x_pre, y, test_size=0.2, random_state=21)"
      ],
      "metadata": {
        "id": "Us-UD7MvoKnl"
      },
      "execution_count": 13,
      "outputs": []
    },
    {
      "cell_type": "code",
      "source": [
        "x_train"
      ],
      "metadata": {
        "colab": {
          "base_uri": "https://localhost:8080/"
        },
        "id": "LgTIUSvVo-7o",
        "outputId": "32179570-2002-4aae-d31e-7106c5acc97f"
      },
      "execution_count": 14,
      "outputs": [
        {
          "output_type": "execute_result",
          "data": {
            "text/plain": [
              "array([[0.        , 0.        , 0.        , ..., 0.        , 0.        ,\n",
              "        0.        ],\n",
              "       [0.        , 0.        , 0.        , ..., 0.        , 0.        ,\n",
              "        0.        ],\n",
              "       [0.        , 0.        , 0.        , ..., 0.        , 0.        ,\n",
              "        0.        ],\n",
              "       ...,\n",
              "       [0.        , 0.        , 0.        , ..., 0.        , 0.        ,\n",
              "        0.        ],\n",
              "       [0.        , 0.        , 0.        , ..., 0.        , 0.        ,\n",
              "        0.        ],\n",
              "       [0.27867055, 0.        , 0.        , ..., 0.        , 0.        ,\n",
              "        0.        ]])"
            ]
          },
          "metadata": {},
          "execution_count": 14
        }
      ]
    },
    {
      "cell_type": "code",
      "source": [
        "y_train"
      ],
      "metadata": {
        "colab": {
          "base_uri": "https://localhost:8080/"
        },
        "id": "xHAxbO2CpAkV",
        "outputId": "ff12f1ba-7158-40e2-9e6a-effd7de7981e"
      },
      "execution_count": 15,
      "outputs": [
        {
          "output_type": "execute_result",
          "data": {
            "text/plain": [
              "108    1\n",
              "134    1\n",
              "585    1\n",
              "42     0\n",
              "990    0\n",
              "      ..\n",
              "48     1\n",
              "772    0\n",
              "824    0\n",
              "207    0\n",
              "969    0\n",
              "Name: Liked, Length: 800, dtype: int64"
            ]
          },
          "metadata": {},
          "execution_count": 15
        }
      ]
    },
    {
      "cell_type": "code",
      "source": [
        "x_test"
      ],
      "metadata": {
        "colab": {
          "base_uri": "https://localhost:8080/"
        },
        "id": "T51yNLiepIBq",
        "outputId": "7c52bb96-5232-4f29-e580-4d2f836c5902"
      },
      "execution_count": 16,
      "outputs": [
        {
          "output_type": "execute_result",
          "data": {
            "text/plain": [
              "array([[0., 0., 0., ..., 0., 0., 0.],\n",
              "       [0., 0., 0., ..., 0., 0., 0.],\n",
              "       [0., 0., 0., ..., 0., 0., 0.],\n",
              "       ...,\n",
              "       [0., 0., 0., ..., 0., 0., 0.],\n",
              "       [0., 0., 0., ..., 0., 0., 0.],\n",
              "       [0., 0., 0., ..., 0., 0., 0.]])"
            ]
          },
          "metadata": {},
          "execution_count": 16
        }
      ]
    },
    {
      "cell_type": "code",
      "source": [
        "y_test"
      ],
      "metadata": {
        "colab": {
          "base_uri": "https://localhost:8080/"
        },
        "id": "6-3OE1RdpLkt",
        "outputId": "e2f12f61-e2f4-45e8-b7ab-f303330353f9"
      },
      "execution_count": 17,
      "outputs": [
        {
          "output_type": "execute_result",
          "data": {
            "text/plain": [
              "492    0\n",
              "383    0\n",
              "856    1\n",
              "834    1\n",
              "603    1\n",
              "      ..\n",
              "72     0\n",
              "400    0\n",
              "813    0\n",
              "195    1\n",
              "45     1\n",
              "Name: Liked, Length: 200, dtype: int64"
            ]
          },
          "metadata": {},
          "execution_count": 17
        }
      ]
    },
    {
      "cell_type": "code",
      "source": [
        "x_train.shape"
      ],
      "metadata": {
        "colab": {
          "base_uri": "https://localhost:8080/"
        },
        "id": "O12SBXHVpMsg",
        "outputId": "3b3fc11e-c922-4ecd-c8d5-16271167fd4c"
      },
      "execution_count": 18,
      "outputs": [
        {
          "output_type": "execute_result",
          "data": {
            "text/plain": [
              "(800, 2046)"
            ]
          },
          "metadata": {},
          "execution_count": 18
        }
      ]
    },
    {
      "cell_type": "code",
      "source": [
        "x_test.shape"
      ],
      "metadata": {
        "colab": {
          "base_uri": "https://localhost:8080/"
        },
        "id": "2ZHQ6o3TpRTI",
        "outputId": "d6890526-6907-4b75-95b3-2138e84a84a5"
      },
      "execution_count": 19,
      "outputs": [
        {
          "output_type": "execute_result",
          "data": {
            "text/plain": [
              "(200, 2046)"
            ]
          },
          "metadata": {},
          "execution_count": 19
        }
      ]
    },
    {
      "cell_type": "markdown",
      "source": [
        "**Build The Neural Network**"
      ],
      "metadata": {
        "id": "RD6qEC87pfEo"
      }
    },
    {
      "cell_type": "code",
      "source": [
        "from keras.models import Sequential\n",
        "from keras.layers import Input, Dropout, Dense\n",
        "from keras.callbacks import EarlyStopping"
      ],
      "metadata": {
        "id": "Vz5aJOrPpTl7"
      },
      "execution_count": 20,
      "outputs": []
    },
    {
      "cell_type": "code",
      "source": [
        "model = Sequential()\n",
        "\n",
        "# Input Layer\n",
        "model.add(Input(shape=(x_train.shape[1],)))\n",
        "\n",
        "# Hidden Layer 1\n",
        "model.add(Dense(256, activation='relu'))\n",
        "# Dropout Layer 1\n",
        "model.add(Dropout(0.5))\n",
        "\n",
        "# Hidden layer 2\n",
        "model.add(Dense(128, activation='relu'))\n",
        "#Dropout Layer 2\n",
        "model.add(Dropout(0.5))\n",
        "\n",
        "# Output Layer\n",
        "model.add(Dense(1, activation='sigmoid'))"
      ],
      "metadata": {
        "id": "mDHwrSBDp-jh"
      },
      "execution_count": 21,
      "outputs": []
    },
    {
      "cell_type": "code",
      "source": [
        "model.summary()"
      ],
      "metadata": {
        "colab": {
          "base_uri": "https://localhost:8080/"
        },
        "id": "uQGiQj_eriDa",
        "outputId": "88033b24-8bd3-44b1-a3e5-9acbd3ca420d"
      },
      "execution_count": 22,
      "outputs": [
        {
          "output_type": "stream",
          "name": "stdout",
          "text": [
            "Model: \"sequential\"\n",
            "_________________________________________________________________\n",
            " Layer (type)                Output Shape              Param #   \n",
            "=================================================================\n",
            " dense (Dense)               (None, 256)               524032    \n",
            "                                                                 \n",
            " dropout (Dropout)           (None, 256)               0         \n",
            "                                                                 \n",
            " dense_1 (Dense)             (None, 128)               32896     \n",
            "                                                                 \n",
            " dropout_1 (Dropout)         (None, 128)               0         \n",
            "                                                                 \n",
            " dense_2 (Dense)             (None, 1)                 129       \n",
            "                                                                 \n",
            "=================================================================\n",
            "Total params: 557057 (2.13 MB)\n",
            "Trainable params: 557057 (2.13 MB)\n",
            "Non-trainable params: 0 (0.00 Byte)\n",
            "_________________________________________________________________\n"
          ]
        }
      ]
    },
    {
      "cell_type": "code",
      "source": [
        "model.compile(optimizer='adam', loss='binary_crossentropy', metrics=['accuracy'])"
      ],
      "metadata": {
        "id": "l3D5GLg_roD4"
      },
      "execution_count": 23,
      "outputs": []
    },
    {
      "cell_type": "code",
      "source": [
        "es = EarlyStopping(patience=10)"
      ],
      "metadata": {
        "id": "ski2FfJisB6z"
      },
      "execution_count": 24,
      "outputs": []
    },
    {
      "cell_type": "code",
      "source": [
        "hist = model.fit(x_train, y_train, validation_split=0.2, batch_size=16, epochs=100, callbacks=[es])"
      ],
      "metadata": {
        "colab": {
          "base_uri": "https://localhost:8080/"
        },
        "id": "Fi4kPQYItFJh",
        "outputId": "d0fed83e-45ba-43ec-ed80-1306d72e6fe1"
      },
      "execution_count": 25,
      "outputs": [
        {
          "output_type": "stream",
          "name": "stdout",
          "text": [
            "Epoch 1/100\n",
            "40/40 [==============================] - 2s 14ms/step - loss: 0.6891 - accuracy: 0.5531 - val_loss: 0.6889 - val_accuracy: 0.4437\n",
            "Epoch 2/100\n",
            "40/40 [==============================] - 0s 11ms/step - loss: 0.6533 - accuracy: 0.7031 - val_loss: 0.6440 - val_accuracy: 0.6812\n",
            "Epoch 3/100\n",
            "40/40 [==============================] - 0s 10ms/step - loss: 0.5014 - accuracy: 0.8625 - val_loss: 0.5112 - val_accuracy: 0.7563\n",
            "Epoch 4/100\n",
            "40/40 [==============================] - 0s 11ms/step - loss: 0.2227 - accuracy: 0.9563 - val_loss: 0.4593 - val_accuracy: 0.7750\n",
            "Epoch 5/100\n",
            "40/40 [==============================] - 0s 9ms/step - loss: 0.0912 - accuracy: 0.9766 - val_loss: 0.4659 - val_accuracy: 0.7688\n",
            "Epoch 6/100\n",
            "40/40 [==============================] - 0s 7ms/step - loss: 0.0371 - accuracy: 0.9953 - val_loss: 0.5214 - val_accuracy: 0.7688\n",
            "Epoch 7/100\n",
            "40/40 [==============================] - 0s 7ms/step - loss: 0.0177 - accuracy: 1.0000 - val_loss: 0.5308 - val_accuracy: 0.7812\n",
            "Epoch 8/100\n",
            "40/40 [==============================] - 1s 14ms/step - loss: 0.0103 - accuracy: 0.9984 - val_loss: 0.5402 - val_accuracy: 0.7875\n",
            "Epoch 9/100\n",
            "40/40 [==============================] - 0s 9ms/step - loss: 0.0057 - accuracy: 1.0000 - val_loss: 0.5538 - val_accuracy: 0.7875\n",
            "Epoch 10/100\n",
            "40/40 [==============================] - 1s 15ms/step - loss: 0.0051 - accuracy: 1.0000 - val_loss: 0.6260 - val_accuracy: 0.7500\n",
            "Epoch 11/100\n",
            "40/40 [==============================] - 0s 11ms/step - loss: 0.0039 - accuracy: 1.0000 - val_loss: 0.6166 - val_accuracy: 0.7563\n",
            "Epoch 12/100\n",
            "40/40 [==============================] - 1s 14ms/step - loss: 0.0026 - accuracy: 1.0000 - val_loss: 0.6329 - val_accuracy: 0.7625\n",
            "Epoch 13/100\n",
            "40/40 [==============================] - 0s 11ms/step - loss: 0.0024 - accuracy: 1.0000 - val_loss: 0.6216 - val_accuracy: 0.7875\n",
            "Epoch 14/100\n",
            "40/40 [==============================] - 0s 8ms/step - loss: 0.0018 - accuracy: 1.0000 - val_loss: 0.6474 - val_accuracy: 0.7750\n"
          ]
        }
      ]
    },
    {
      "cell_type": "markdown",
      "source": [
        "**Learning curve**"
      ],
      "metadata": {
        "id": "WbOKhPWutsoy"
      }
    },
    {
      "cell_type": "code",
      "source": [
        "import matplotlib.pyplot as plt\n",
        "plt.figure(figsize=(10, 5))\n",
        "plt.plot(hist.history['loss'], label='Train Loss')\n",
        "plt.plot(hist.history['val_loss'], label='Validation Loss')\n",
        "plt.xlabel('epochs')\n",
        "plt.ylabel('Binary Crossentropy loss')\n",
        "plt.legend()\n",
        "plt.show()"
      ],
      "metadata": {
        "colab": {
          "base_uri": "https://localhost:8080/",
          "height": 358
        },
        "id": "2ImHBHL5tv9S",
        "outputId": "25029a22-1da6-432f-d043-aae836b540ca"
      },
      "execution_count": 26,
      "outputs": [
        {
          "output_type": "display_data",
          "data": {
            "text/plain": [
              "<Figure size 1000x500 with 1 Axes>"
            ],
            "image/png": "[encoded data removed]"
          },
          "metadata": {}
        }
      ]
    },
    {
      "cell_type": "markdown",
      "source": [
        "**Evaluate the model**"
      ],
      "metadata": {
        "id": "aXRXRUmluZVt"
      }
    },
    {
      "cell_type": "code",
      "source": [
        "model.evaluate(x_train, y_train)"
      ],
      "metadata": {
        "colab": {
          "base_uri": "https://localhost:8080/"
        },
        "id": "x-YcGqC3ubUV",
        "outputId": "6dbdbc2b-9764-4f7d-e4f1-3891187db21b"
      },
      "execution_count": 27,
      "outputs": [
        {
          "output_type": "stream",
          "name": "stdout",
          "text": [
            "25/25 [==============================] - 1s 9ms/step - loss: 0.1299 - accuracy: 0.9550\n"
          ]
        },
        {
          "output_type": "execute_result",
          "data": {
            "text/plain": [
              "[0.1299380511045456, 0.9549999833106995]"
            ]
          },
          "metadata": {},
          "execution_count": 27
        }
      ]
    },
    {
      "cell_type": "code",
      "source": [
        "model.evaluate(x_test, y_test)"
      ],
      "metadata": {
        "colab": {
          "base_uri": "https://localhost:8080/"
        },
        "id": "iD0dPeY2u08A",
        "outputId": "9058e422-20b5-4485-d78f-8ac9ab90b2fb"
      },
      "execution_count": 28,
      "outputs": [
        {
          "output_type": "stream",
          "name": "stdout",
          "text": [
            "7/7 [==============================] - 0s 6ms/step - loss: 0.5388 - accuracy: 0.7950\n"
          ]
        },
        {
          "output_type": "execute_result",
          "data": {
            "text/plain": [
              "[0.5387796759605408, 0.7950000166893005]"
            ]
          },
          "metadata": {},
          "execution_count": 28
        }
      ]
    },
    {
      "cell_type": "markdown",
      "source": [
        "**Predict results for train and test**"
      ],
      "metadata": {
        "id": "Gtfq1uskvNPh"
      }
    },
    {
      "cell_type": "code",
      "source": [
        "yprob_train = model.predict(x_train)\n",
        "yprob_test = model.predict(x_test)"
      ],
      "metadata": {
        "colab": {
          "base_uri": "https://localhost:8080/"
        },
        "id": "-FD7Un_xu6dq",
        "outputId": "05e3825f-a81b-4b0e-82e3-6aa26f3508a6"
      },
      "execution_count": 29,
      "outputs": [
        {
          "output_type": "stream",
          "name": "stdout",
          "text": [
            "25/25 [==============================] - 0s 3ms/step\n",
            "7/7 [==============================] - 0s 3ms/step\n"
          ]
        }
      ]
    },
    {
      "cell_type": "code",
      "source": [
        "yprob_train[0:5]"
      ],
      "metadata": {
        "colab": {
          "base_uri": "https://localhost:8080/"
        },
        "id": "fTDBKmm9ve4E",
        "outputId": "79ba0cdd-325f-4126-9c3e-6fa379cb9bee"
      },
      "execution_count": 30,
      "outputs": [
        {
          "output_type": "execute_result",
          "data": {
            "text/plain": [
              "array([[9.9851167e-01],\n",
              "       [9.9997413e-01],\n",
              "       [9.9999958e-01],\n",
              "       [3.9211674e-05],\n",
              "       [9.2949747e-05]], dtype=float32)"
            ]
          },
          "metadata": {},
          "execution_count": 30
        }
      ]
    },
    {
      "cell_type": "code",
      "source": [
        "ypred_train = [1 if prob>0.5 else 0 for prob in yprob_train]\n",
        "ypred_test = [1 if prob>0.5 else 0 for prob in yprob_test]"
      ],
      "metadata": {
        "id": "kaOmKt6Mvk_s"
      },
      "execution_count": 31,
      "outputs": []
    },
    {
      "cell_type": "code",
      "source": [
        "from sklearn.metrics import ConfusionMatrixDisplay\n",
        "ConfusionMatrixDisplay.from_predictions(y_test, ypred_test)"
      ],
      "metadata": {
        "colab": {
          "base_uri": "https://localhost:8080/",
          "height": 466
        },
        "id": "PNN7BSqXwDjV",
        "outputId": "8a98bdb6-9a2c-4c41-df00-092abb61c5de"
      },
      "execution_count": 32,
      "outputs": [
        {
          "output_type": "execute_result",
          "data": {
            "text/plain": [
              "<sklearn.metrics._plot.confusion_matrix.ConfusionMatrixDisplay at 0x7de7cb08d7b0>"
            ]
          },
          "metadata": {},
          "execution_count": 32
        },
        {
          "output_type": "display_data",
          "data": {
            "text/plain": [
              "<Figure size 640x480 with 2 Axes>"
            ],
            "image/png": "[encoded data removed]"
          },
          "metadata": {}
        }
      ]
    },
    {
      "cell_type": "code",
      "source": [
        "from sklearn.metrics import classification_report\n",
        "print(classification_report(y_test, ypred_test))"
      ],
      "metadata": {
        "colab": {
          "base_uri": "https://localhost:8080/"
        },
        "id": "sAIrsa_ywtPt",
        "outputId": "75f6af96-8552-48ff-dec0-1b152d3410fa"
      },
      "execution_count": 33,
      "outputs": [
        {
          "output_type": "stream",
          "name": "stdout",
          "text": [
            "              precision    recall  f1-score   support\n",
            "\n",
            "           0       0.84      0.75      0.79       102\n",
            "           1       0.76      0.85      0.80        98\n",
            "\n",
            "    accuracy                           0.80       200\n",
            "   macro avg       0.80      0.80      0.79       200\n",
            "weighted avg       0.80      0.80      0.79       200\n",
            "\n"
          ]
        }
      ]
    },
    {
      "cell_type": "markdown",
      "source": [
        "Model Accuray is 80 percent so we can use this model for future prediction."
      ],
      "metadata": {
        "id": "HUCOEVABxRP4"
      }
    },
    {
      "cell_type": "markdown",
      "source": [
        "**Save the model for future use**"
      ],
      "metadata": {
        "id": "zUlaSbT1xnMf"
      }
    },
    {
      "cell_type": "code",
      "source": [
        "model.save('SentmentModel.keras')"
      ],
      "metadata": {
        "id": "qKiJ5_ktxQCm"
      },
      "execution_count": 34,
      "outputs": []
    },
    {
      "cell_type": "markdown",
      "source": [
        "."
      ],
      "metadata": {
        "id": "UQBCCLxMxu3S"
      }
    },
    {
      "cell_type": "markdown",
      "source": [
        "**Load the model**"
      ],
      "metadata": {
        "id": "7tj-KFELxwzX"
      }
    },
    {
      "cell_type": "code",
      "source": [
        "from keras.models import load_model"
      ],
      "metadata": {
        "id": "iyTWjr9QxmXJ"
      },
      "execution_count": 35,
      "outputs": []
    },
    {
      "cell_type": "code",
      "source": [
        "mn = load_model('/content/SentmentModel.keras')\n",
        "mn.summary()"
      ],
      "metadata": {
        "id": "hiBW4Xa5yLBC",
        "colab": {
          "base_uri": "https://localhost:8080/"
        },
        "outputId": "bf1de533-3fed-477f-889b-a334aa87bba9"
      },
      "execution_count": 36,
      "outputs": [
        {
          "output_type": "stream",
          "name": "stdout",
          "text": [
            "Model: \"sequential\"\n",
            "_________________________________________________________________\n",
            " Layer (type)                Output Shape              Param #   \n",
            "=================================================================\n",
            " dense (Dense)               (None, 256)               524032    \n",
            "                                                                 \n",
            " dropout (Dropout)           (None, 256)               0         \n",
            "                                                                 \n",
            " dense_1 (Dense)             (None, 128)               32896     \n",
            "                                                                 \n",
            " dropout_1 (Dropout)         (None, 128)               0         \n",
            "                                                                 \n",
            " dense_2 (Dense)             (None, 1)                 129       \n",
            "                                                                 \n",
            "=================================================================\n",
            "Total params: 557057 (2.13 MB)\n",
            "Trainable params: 557057 (2.13 MB)\n",
            "Non-trainable params: 0 (0.00 Byte)\n",
            "_________________________________________________________________\n"
          ]
        }
      ]
    },
    {
      "cell_type": "markdown",
      "source": [
        "**Out of sample prediction**"
      ],
      "metadata": {
        "id": "fqgtFXxWzbZH"
      }
    },
    {
      "cell_type": "code",
      "source": [
        "s = \"Very tasty food\"\n",
        "t = tfidf.transform([s]).toarray()\n",
        "t"
      ],
      "metadata": {
        "colab": {
          "base_uri": "https://localhost:8080/"
        },
        "id": "y3iJbUD_zZMw",
        "outputId": "aca4544a-d9ed-4bf7-a9ce-7fc9a043b1d8"
      },
      "execution_count": 37,
      "outputs": [
        {
          "output_type": "execute_result",
          "data": {
            "text/plain": [
              "array([[0., 0., 0., ..., 0., 0., 0.]])"
            ]
          },
          "metadata": {},
          "execution_count": 37
        }
      ]
    },
    {
      "cell_type": "code",
      "source": [
        "model.predict(t)"
      ],
      "metadata": {
        "colab": {
          "base_uri": "https://localhost:8080/"
        },
        "id": "C2_vzku2zkee",
        "outputId": "bd7a817d-6103-4e0b-d3b4-b7eb48a86544"
      },
      "execution_count": 38,
      "outputs": [
        {
          "output_type": "stream",
          "name": "stdout",
          "text": [
            "1/1 [==============================] - 0s 15ms/step\n"
          ]
        },
        {
          "output_type": "execute_result",
          "data": {
            "text/plain": [
              "array([[0.9940871]], dtype=float32)"
            ]
          },
          "metadata": {},
          "execution_count": 38
        }
      ]
    },
    {
      "cell_type": "code",
      "source": [
        "def predict_sentiment():\n",
        "  text = input(\"Please enter restuaraunt review : \")\n",
        "  text = preprocessing_text(text)\n",
        "  text_pre = tfidf.transform([text]).toarray()\n",
        "  prob = model.predict(text_pre)\n",
        "  if prob>=0.5:\n",
        "    print(\"Positive Review\")\n",
        "  else:\n",
        "    print(\"Negative Review\")\n",
        "  return prob"
      ],
      "metadata": {
        "id": "QVg077_AznAq"
      },
      "execution_count": 41,
      "outputs": []
    },
    {
      "cell_type": "code",
      "source": [
        "predict_sentiment()"
      ],
      "metadata": {
        "colab": {
          "base_uri": "https://localhost:8080/"
        },
        "id": "N_T0ggvczqO5",
        "outputId": "362006f9-3a48-4a1b-9c11-9ea68664976c"
      },
      "execution_count": 42,
      "outputs": [
        {
          "output_type": "stream",
          "name": "stdout",
          "text": [
            "Please enter restuaraunt review : Very good ambience , i liked it\n",
            "1/1 [==============================] - 0s 15ms/step\n",
            "Positive Review\n"
          ]
        },
        {
          "output_type": "execute_result",
          "data": {
            "text/plain": [
              "array([[0.9996637]], dtype=float32)"
            ]
          },
          "metadata": {},
          "execution_count": 42
        }
      ]
    },
    {
      "cell_type": "code",
      "source": [
        "predict_sentiment()"
      ],
      "metadata": {
        "colab": {
          "base_uri": "https://localhost:8080/"
        },
        "id": "R9D7XMPOzsrA",
        "outputId": "6e618d0e-948b-4c4f-d191-e850f083617f"
      },
      "execution_count": 43,
      "outputs": [
        {
          "output_type": "stream",
          "name": "stdout",
          "text": [
            "Please enter restuaraunt review : Bad Taste, I did not like the taste of Pizza here\n",
            "1/1 [==============================] - 0s 14ms/step\n",
            "Negative Review\n"
          ]
        },
        {
          "output_type": "execute_result",
          "data": {
            "text/plain": [
              "array([[0.00028318]], dtype=float32)"
            ]
          },
          "metadata": {},
          "execution_count": 43
        }
      ]
    }
  ]
}